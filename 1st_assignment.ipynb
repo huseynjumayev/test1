{
 "cells": [
  {
   "cell_type": "code",
   "execution_count": null,
   "id": "ac0a8f47",
   "metadata": {},
   "outputs": [],
   "source": [
    "import pandas as pd\n",
    "import matplotlib.pyplot as plt"
   ]
  },
  {
   "cell_type": "code",
   "execution_count": null,
   "id": "baf2f74e",
   "metadata": {},
   "outputs": [],
   "source": [
    "file_path = r\"/workspaces/test1/wetter.csv\"\n",
    "\n",
    "data = pd.read_csv(file_path)"
   ]
  },
  {
   "cell_type": "markdown",
   "id": "5d6c5f0a",
   "metadata": {},
   "source": [
    "**Task 1**"
   ]
  },
  {
   "cell_type": "code",
   "execution_count": null,
   "id": "50165193",
   "metadata": {},
   "outputs": [
    {
     "name": "stdout",
     "output_type": "stream",
     "text": [
      "The average temperature is: 12.099585595540177\n"
     ]
    }
   ],
   "source": [
    "average_temperature = data['Temperatur'].mean()\n",
    "\n",
    "print(f\"The average temperature is: {average_temperature}\")"
   ]
  },
  {
   "cell_type": "markdown",
   "id": "4b864669",
   "metadata": {},
   "source": [
    "**Task 2**"
   ]
  },
  {
   "cell_type": "code",
   "execution_count": null,
   "id": "cea90bf2",
   "metadata": {},
   "outputs": [],
   "source": [
    "data['Datum'] = pd.to_datetime(data['Datum'], format='%d/%m/%Y')"
   ]
  },
  {
   "cell_type": "code",
   "execution_count": null,
   "id": "e997f744",
   "metadata": {},
   "outputs": [],
   "source": [
    "julydf = data.loc[data['Datum'].dt.month == 7]"
   ]
  },
  {
   "cell_type": "code",
   "execution_count": null,
   "id": "860a0f40",
   "metadata": {},
   "outputs": [
    {
     "name": "stdout",
     "output_type": "stream",
     "text": [
      "20.75114227125506\n"
     ]
    }
   ],
   "source": [
    "print(julydf['Temperatur'].mean())"
   ]
  },
  {
   "cell_type": "markdown",
   "id": "393d9a26",
   "metadata": {},
   "source": [
    "**Task 3**"
   ]
  },
  {
   "cell_type": "code",
   "execution_count": 38,
   "id": "b5916282",
   "metadata": {},
   "outputs": [],
   "source": [
    "julydf = data.loc[data['Datum'].dt.month == 7]\n",
    "maydf = data.loc[data['Datum'].dt.month == 5]"
   ]
  },
  {
   "cell_type": "code",
   "execution_count": null,
   "id": "9cb84636",
   "metadata": {},
   "outputs": [
    {
     "name": "stdout",
     "output_type": "stream",
     "text": [
      "July average: 20.75114227125506\n",
      "May average: 15.244362036290322\n"
     ]
    }
   ],
   "source": [
    "july_avg = julydf['Temperatur'].mean()\n",
    "may_avg = maydf['Temperatur'].mean()\n",
    "print(f\"July average: {july_avg}\")\n",
    "print(f\"May average: {may_avg}\")"
   ]
  }
 ],
 "metadata": {
  "kernelspec": {
   "display_name": "Python 3",
   "language": "python",
   "name": "python3"
  },
  "language_info": {
   "codemirror_mode": {
    "name": "ipython",
    "version": 3
   },
   "file_extension": ".py",
   "mimetype": "text/x-python",
   "name": "python",
   "nbconvert_exporter": "python",
   "pygments_lexer": "ipython3",
   "version": "3.12.1"
  }
 },
 "nbformat": 4,
 "nbformat_minor": 5
}
